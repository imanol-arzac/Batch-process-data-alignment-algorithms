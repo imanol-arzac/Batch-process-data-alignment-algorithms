# Import packages
import matplotlib.pyplot as plt
from matplotlib.colors import ListedColormap
import numpy as np
import pandas as pd
import seaborn as sns
sns.set_context('talk',font_scale=1.5,rc={"lines.linewidth": 3})
plt.rcParams['text.usetex'] = True  # write label & legend in LaTex
from dtw import *
import time
from scipy.signal import savgol_filter
